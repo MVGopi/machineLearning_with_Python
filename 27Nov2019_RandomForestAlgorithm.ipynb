{
 "cells": [
  {
   "cell_type": "code",
   "execution_count": 1,
   "metadata": {},
   "outputs": [
    {
     "data": {
      "text/html": [
       "<div>\n",
       "<style scoped>\n",
       "    .dataframe tbody tr th:only-of-type {\n",
       "        vertical-align: middle;\n",
       "    }\n",
       "\n",
       "    .dataframe tbody tr th {\n",
       "        vertical-align: top;\n",
       "    }\n",
       "\n",
       "    .dataframe thead th {\n",
       "        text-align: right;\n",
       "    }\n",
       "</style>\n",
       "<table border=\"1\" class=\"dataframe\">\n",
       "  <thead>\n",
       "    <tr style=\"text-align: right;\">\n",
       "      <th></th>\n",
       "      <th>Pregnancies</th>\n",
       "      <th>Glucose</th>\n",
       "      <th>BloodPressure</th>\n",
       "      <th>SkinThickness</th>\n",
       "      <th>Insulin</th>\n",
       "      <th>BMI</th>\n",
       "      <th>DiabetesPedigreeFunction</th>\n",
       "      <th>Age</th>\n",
       "      <th>Outcome</th>\n",
       "    </tr>\n",
       "  </thead>\n",
       "  <tbody>\n",
       "    <tr>\n",
       "      <td>0</td>\n",
       "      <td>6</td>\n",
       "      <td>148</td>\n",
       "      <td>72</td>\n",
       "      <td>35</td>\n",
       "      <td>0</td>\n",
       "      <td>33.6</td>\n",
       "      <td>0.627</td>\n",
       "      <td>50</td>\n",
       "      <td>1</td>\n",
       "    </tr>\n",
       "    <tr>\n",
       "      <td>1</td>\n",
       "      <td>1</td>\n",
       "      <td>85</td>\n",
       "      <td>66</td>\n",
       "      <td>29</td>\n",
       "      <td>0</td>\n",
       "      <td>26.6</td>\n",
       "      <td>0.351</td>\n",
       "      <td>31</td>\n",
       "      <td>0</td>\n",
       "    </tr>\n",
       "    <tr>\n",
       "      <td>2</td>\n",
       "      <td>8</td>\n",
       "      <td>183</td>\n",
       "      <td>64</td>\n",
       "      <td>0</td>\n",
       "      <td>0</td>\n",
       "      <td>23.3</td>\n",
       "      <td>0.672</td>\n",
       "      <td>32</td>\n",
       "      <td>1</td>\n",
       "    </tr>\n",
       "    <tr>\n",
       "      <td>3</td>\n",
       "      <td>1</td>\n",
       "      <td>89</td>\n",
       "      <td>66</td>\n",
       "      <td>23</td>\n",
       "      <td>94</td>\n",
       "      <td>28.1</td>\n",
       "      <td>0.167</td>\n",
       "      <td>21</td>\n",
       "      <td>0</td>\n",
       "    </tr>\n",
       "    <tr>\n",
       "      <td>4</td>\n",
       "      <td>0</td>\n",
       "      <td>137</td>\n",
       "      <td>40</td>\n",
       "      <td>35</td>\n",
       "      <td>168</td>\n",
       "      <td>43.1</td>\n",
       "      <td>2.288</td>\n",
       "      <td>33</td>\n",
       "      <td>1</td>\n",
       "    </tr>\n",
       "  </tbody>\n",
       "</table>\n",
       "</div>"
      ],
      "text/plain": [
       "   Pregnancies  Glucose  BloodPressure  SkinThickness  Insulin   BMI  \\\n",
       "0            6      148             72             35        0  33.6   \n",
       "1            1       85             66             29        0  26.6   \n",
       "2            8      183             64              0        0  23.3   \n",
       "3            1       89             66             23       94  28.1   \n",
       "4            0      137             40             35      168  43.1   \n",
       "\n",
       "   DiabetesPedigreeFunction  Age  Outcome  \n",
       "0                     0.627   50        1  \n",
       "1                     0.351   31        0  \n",
       "2                     0.672   32        1  \n",
       "3                     0.167   21        0  \n",
       "4                     2.288   33        1  "
      ]
     },
     "execution_count": 1,
     "metadata": {},
     "output_type": "execute_result"
    }
   ],
   "source": [
    "import pandas as pd\n",
    "diabetes_df = pd.read_csv('diabetes.csv')\n",
    "diabetes_df.head()"
   ]
  },
  {
   "cell_type": "code",
   "execution_count": 2,
   "metadata": {},
   "outputs": [],
   "source": [
    "X = diabetes_df.drop('Outcome', axis = 1)\n",
    "Y = diabetes_df['Outcome']"
   ]
  },
  {
   "cell_type": "code",
   "execution_count": 3,
   "metadata": {},
   "outputs": [],
   "source": [
    "from sklearn.model_selection import train_test_split\n",
    "X_train, X_test, Y_train, Y_test = train_test_split(X, Y, test_size = 0.33, random_state = 3)"
   ]
  },
  {
   "cell_type": "code",
   "execution_count": 4,
   "metadata": {},
   "outputs": [
    {
     "name": "stderr",
     "output_type": "stream",
     "text": [
      "C:\\Users\\rgukt\\Anaconda3\\lib\\site-packages\\sklearn\\ensemble\\forest.py:245: FutureWarning: The default value of n_estimators will change from 10 in version 0.20 to 100 in 0.22.\n",
      "  \"10 in version 0.20 to 100 in 0.22.\", FutureWarning)\n"
     ]
    }
   ],
   "source": [
    "from sklearn.ensemble import RandomForestClassifier\n",
    "rfc = RandomForestClassifier()\n",
    "rfc.fit(X_train, Y_train)\n",
    "rfc_predict = rfc.predict(X_test)\n",
    "#rfc_predict"
   ]
  },
  {
   "cell_type": "code",
   "execution_count": 5,
   "metadata": {},
   "outputs": [],
   "source": [
    "# Evaluating performance\n",
    "from sklearn.model_selection import cross_val_score\n",
    "from sklearn.metrics import classification_report, confusion_matrix"
   ]
  },
  {
   "cell_type": "code",
   "execution_count": 6,
   "metadata": {},
   "outputs": [],
   "source": [
    "rfc_cv_score = cross_val_score(rfc, X, Y, cv = 10, scoring = \"roc_auc\")"
   ]
  },
  {
   "cell_type": "code",
   "execution_count": 7,
   "metadata": {},
   "outputs": [
    {
     "name": "stdout",
     "output_type": "stream",
     "text": [
      "=====Confusion Matrix=====\n",
      "[[132  16]\n",
      " [ 53  53]]\n",
      "\n",
      "\n",
      "====Classification Report=====\n",
      "              precision    recall  f1-score   support\n",
      "\n",
      "           0       0.71      0.89      0.79       148\n",
      "           1       0.77      0.50      0.61       106\n",
      "\n",
      "    accuracy                           0.73       254\n",
      "   macro avg       0.74      0.70      0.70       254\n",
      "weighted avg       0.74      0.73      0.71       254\n",
      "\n",
      "\n",
      "\n",
      "====All AUC Scores====\n",
      "[0.70666667 0.75851852 0.79518519 0.69592593 0.75148148 0.81259259\n",
      " 0.81740741 0.89555556 0.77038462 0.83      ]\n",
      "\n",
      "\n",
      "====Mean AUC Score====\n",
      "Mean AUC Score - Random Forest 0.7833717948717948\n"
     ]
    }
   ],
   "source": [
    "print('=====Confusion Matrix=====')\n",
    "print(confusion_matrix(Y_test, rfc_predict))\n",
    "print('\\n')\n",
    "print('====Classification Report=====')\n",
    "print(classification_report(Y_test, rfc_predict))\n",
    "print('\\n')\n",
    "print('====All AUC Scores====')\n",
    "print(rfc_cv_score)\n",
    "print('\\n')\n",
    "print('====Mean AUC Score====')\n",
    "print('Mean AUC Score - Random Forest', rfc_cv_score.mean())"
   ]
  },
  {
   "cell_type": "code",
   "execution_count": 9,
   "metadata": {},
   "outputs": [
    {
     "name": "stdout",
     "output_type": "stream",
     "text": [
      "Fitting 3 folds for each of 100 candidates, totalling 300 fits\n"
     ]
    },
    {
     "name": "stderr",
     "output_type": "stream",
     "text": [
      "[Parallel(n_jobs=-1)]: Using backend LokyBackend with 4 concurrent workers.\n",
      "[Parallel(n_jobs=-1)]: Done  33 tasks      | elapsed:   19.4s\n",
      "[Parallel(n_jobs=-1)]: Done 154 tasks      | elapsed:  1.1min\n",
      "[Parallel(n_jobs=-1)]: Done 300 out of 300 | elapsed:  2.4min finished\n"
     ]
    },
    {
     "name": "stdout",
     "output_type": "stream",
     "text": [
      "{'n_estimators': 1600, 'max_features': 'sqrt', 'max_depth': 460}\n"
     ]
    }
   ],
   "source": [
    "import numpy as np\n",
    "from sklearn.model_selection import RandomizedSearchCV\n",
    "# NO of trees in random forest\n",
    "n_estimators = [int(x) for x in np.linspace(start=200,stop =2000, num = 10)]\n",
    "# no of features at every split\n",
    "\n",
    "max_features = ['auto','sqrt']\n",
    "\n",
    "# max_deapth\n",
    "max_depth = [int(x) for x in np.linspace(start=100,stop =500, num = 11)]\n",
    "max_depth.append(None)\n",
    "\n",
    "#create random grid\n",
    "random_grid = {'n_estimators':n_estimators,'max_features':max_features,'max_depth':max_depth}\n",
    "# random search of parameters\n",
    "\n",
    "rfc_random = RandomizedSearchCV(estimator=rfc,param_distributions=random_grid, n_iter = 100, cv = 3, verbose = 2, random_state = 2, n_jobs = -1)\n",
    "# fit the model\n",
    "rfc_random.fit(X_train,Y_train)\n",
    "#print results\n",
    "print(rfc_random.best_params_)"
   ]
  },
  {
   "cell_type": "code",
   "execution_count": 12,
   "metadata": {},
   "outputs": [
    {
     "name": "stdout",
     "output_type": "stream",
     "text": [
      "=====Confusion Matrix=====\n",
      "[[131  17]\n",
      " [ 42  64]]\n",
      "\n",
      "\n",
      "====Classification Report=====\n",
      "              precision    recall  f1-score   support\n",
      "\n",
      "           0       0.76      0.89      0.82       148\n",
      "           1       0.79      0.60      0.68       106\n",
      "\n",
      "    accuracy                           0.77       254\n",
      "   macro avg       0.77      0.74      0.75       254\n",
      "weighted avg       0.77      0.77      0.76       254\n",
      "\n",
      "\n",
      "\n",
      "====All AUC Scores====\n",
      "[0.7837037  0.83814815 0.83       0.73851852 0.80111111 0.85333333\n",
      " 0.87185185 0.89333333 0.79384615 0.84076923]\n",
      "\n",
      "\n",
      "====Mean AUC Score====\n",
      "Mean AUC Score - Random Forest 0.8244615384615385\n"
     ]
    }
   ],
   "source": [
    "rfc = RandomForestClassifier(n_estimators = 200, max_depth = 140, max_features = 'sqrt')\n",
    "rfc.fit(X_train, Y_train)\n",
    "rfc_predict = rfc.predict(X_test)\n",
    "rfc_cv_score = cross_val_score(rfc, X, Y, cv = 10, scoring = 'roc_auc')\n",
    "print('=====Confusion Matrix=====')\n",
    "print(confusion_matrix(Y_test, rfc_predict))\n",
    "print('\\n')\n",
    "print('====Classification Report=====')\n",
    "print(classification_report(Y_test, rfc_predict))\n",
    "print('\\n')\n",
    "print('====All AUC Scores====')\n",
    "print(rfc_cv_score)\n",
    "print('\\n')\n",
    "print('====Mean AUC Score====')\n",
    "print('Mean AUC Score - Random Forest', rfc_cv_score.mean())"
   ]
  },
  {
   "cell_type": "code",
   "execution_count": null,
   "metadata": {},
   "outputs": [],
   "source": []
  }
 ],
 "metadata": {
  "kernelspec": {
   "display_name": "Python 3",
   "language": "python",
   "name": "python3"
  },
  "language_info": {
   "codemirror_mode": {
    "name": "ipython",
    "version": 3
   },
   "file_extension": ".py",
   "mimetype": "text/x-python",
   "name": "python",
   "nbconvert_exporter": "python",
   "pygments_lexer": "ipython3",
   "version": "3.7.4"
  }
 },
 "nbformat": 4,
 "nbformat_minor": 2
}
